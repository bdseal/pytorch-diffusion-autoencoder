{
 "cells": [
  {
   "cell_type": "code",
   "execution_count": 6,
   "metadata": {
    "collapsed": true
   },
   "outputs": [],
   "source": [
    "from omegaconf import OmegaConf"
   ]
  },
  {
   "cell_type": "code",
   "execution_count": 7,
   "outputs": [
    {
     "name": "stdout",
     "output_type": "stream",
     "text": [
      "UNet\n",
      "resolution : 28 for level 0. Attentions: False\n",
      "resolution: 14 for level 2. Attentions: True\n",
      "resolution: 28 for level 0. Attentions: False\n",
      "LatentEncoder\n",
      "level 0. Attentions: False\n",
      "level 0. Attentions: True\n"
     ]
    }
   ],
   "source": [
    "from utils.config import get_class_from_str\n",
    "\n",
    "device = 'cuda'\n",
    "config = OmegaConf.load('../config/mnist.yml')\n",
    "model = get_class_from_str(config.model.target)(**config.model.params).to(device)\n",
    "encoder = get_class_from_str(config.encoder.target)(**config.encoder.params).to(device)\n",
    "diffusion = get_class_from_str(config.diffusion.target)(\n",
    "        model, **config.diffusion.params, latent_encoder=encoder\n",
    ").to(device)"
   ],
   "metadata": {
    "collapsed": false,
    "pycharm": {
     "name": "#%%\n"
    }
   }
  },
  {
   "cell_type": "code",
   "execution_count": 8,
   "outputs": [
    {
     "data": {
      "text/plain": "<All keys matched successfully>"
     },
     "execution_count": 8,
     "metadata": {},
     "output_type": "execute_result"
    }
   ],
   "source": [
    "import torch\n",
    "\n",
    "diffusion.load_state_dict(torch.load('../runs/mnist_big_lr/diffusion_23433.pt')['model_state_dict'])"
   ],
   "metadata": {
    "collapsed": false,
    "pycharm": {
     "name": "#%%\n"
    }
   }
  },
  {
   "cell_type": "code",
   "execution_count": 14,
   "outputs": [],
   "source": [
    "from scripts.train import DatasetWrapper\n",
    "\n",
    "diffusion.eval()\n",
    "dataset = DatasetWrapper(get_class_from_str(config.data.target)(**config.data.params))\n",
    "dataloader = torch.utils.data.DataLoader(dataset, batch_size=2, shuffle=True, num_workers=0)"
   ],
   "metadata": {
    "collapsed": false,
    "pycharm": {
     "name": "#%%\n"
    }
   }
  },
  {
   "cell_type": "code",
   "execution_count": 15,
   "outputs": [],
   "source": [
    "mini_batch = next(iter(dataloader))\n",
    "x_1 = mini_batch[0][0].to(device)\n",
    "x_2 = mini_batch[0][1].to(device)"
   ],
   "metadata": {
    "collapsed": false,
    "pycharm": {
     "name": "#%%\n"
    }
   }
  },
  {
   "cell_type": "code",
   "execution_count": 12,
   "outputs": [],
   "source": [
    "steps = 100"
   ],
   "metadata": {
    "collapsed": false,
    "pycharm": {
     "name": "#%%\n"
    }
   }
  },
  {
   "cell_type": "code",
   "execution_count": 16,
   "outputs": [
    {
     "name": "stderr",
     "output_type": "stream",
     "text": [
      "sampling loop time step: 100%|██████████| 1000/1000 [00:14<00:00, 68.81it/s]\n"
     ]
    }
   ],
   "source": [
    "import numpy as np\n",
    "from PIL.Image import LANCZOS\n",
    "from torchvision.transforms import ToPILImage\n",
    "import imageio\n",
    "\n",
    "x_1_latent = diffusion.latent_encoder(x_1[None])\n",
    "x_2_latent = diffusion.latent_encoder(x_2[None])\n",
    "\n",
    "\n",
    "interpolations = torch.stack([torch.lerp(x_1_latent, x_2_latent, t) for t in torch.linspace(0, 1, steps=steps).to(x_1.device)]).squeeze(1)\n",
    "\n",
    "noise = torch.randn((steps, model.in_channels, *model.size)).to(x_1.device)\n",
    "y_s = diffusion.p_decode_loop((steps, model.in_channels, *model.size), interpolations.squeeze(1), x_start=noise)\n",
    "y_s = torch.clamp(y_s, 0, 1)\n",
    "video = imageio.get_writer('interpolation.gif', fps=10)\n",
    "for y in y_s:\n",
    "    y = ToPILImage()(y.cpu())\n",
    "    y = y.resize((64, 64), LANCZOS)\n",
    "    video.append_data(np.array(y))\n",
    "for y in reversed(y_s):\n",
    "    y = ToPILImage()(y.cpu())\n",
    "    y = y.resize((64, 64), LANCZOS)\n",
    "    video.append_data(np.array(y))\n",
    "video.close()"
   ],
   "metadata": {
    "collapsed": false,
    "pycharm": {
     "name": "#%%\n"
    }
   }
  }
 ],
 "metadata": {
  "kernelspec": {
   "display_name": "Python 3",
   "language": "python",
   "name": "python3"
  },
  "language_info": {
   "codemirror_mode": {
    "name": "ipython",
    "version": 2
   },
   "file_extension": ".py",
   "mimetype": "text/x-python",
   "name": "python",
   "nbconvert_exporter": "python",
   "pygments_lexer": "ipython2",
   "version": "2.7.6"
  }
 },
 "nbformat": 4,
 "nbformat_minor": 0
}